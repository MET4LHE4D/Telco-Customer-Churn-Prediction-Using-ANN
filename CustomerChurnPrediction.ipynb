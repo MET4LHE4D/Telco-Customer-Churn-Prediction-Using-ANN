{
 "cells": [
  {
   "cell_type": "markdown",
   "metadata": {},
   "source": [
    "# Objective"
   ]
  },
  {
   "cell_type": "markdown",
   "metadata": {},
   "source": [
    "### Building a churn model using an ANN."
   ]
  },
  {
   "cell_type": "code",
   "execution_count": 1,
   "metadata": {},
   "outputs": [
    {
     "name": "stderr",
     "output_type": "stream",
     "text": [
      "C:\\ProgramData\\Anaconda3\\lib\\site-packages\\h5py\\__init__.py:36: FutureWarning: Conversion of the second argument of issubdtype from `float` to `np.floating` is deprecated. In future, it will be treated as `np.float64 == np.dtype(float).type`.\n",
      "  from ._conv import register_converters as _register_converters\n",
      "Using TensorFlow backend.\n",
      "C:\\ProgramData\\Anaconda3\\lib\\site-packages\\sklearn\\cross_validation.py:41: DeprecationWarning: This module was deprecated in version 0.18 in favor of the model_selection module into which all the refactored classes and functions are moved. Also note that the interface of the new CV iterators are different from that of this module. This module will be removed in 0.20.\n",
      "  \"This module will be removed in 0.20.\", DeprecationWarning)\n"
     ]
    }
   ],
   "source": [
    "from sklearn.preprocessing import LabelEncoder,OneHotEncoder\n",
    "from keras.wrappers.scikit_learn import KerasClassifier\n",
    "from sklearn.cross_validation import train_test_split\n",
    "from sklearn.model_selection import GridSearchCV\n",
    "from sklearn.preprocessing import StandardScaler\n",
    "from sklearn.metrics import confusion_matrix,classification_report\n",
    "from keras.layers import BatchNormalization\n",
    "from keras.models import Sequential\n",
    "from keras.layers import Dropout\n",
    "from keras.layers import Dense\n",
    "import matplotlib.pyplot as plt\n",
    "import seaborn as sns\n",
    "import pandas as pd\n",
    "import numpy as np\n",
    "import collections\n",
    "import warnings\n",
    "warnings.filterwarnings(\"ignore\")"
   ]
  },
  {
   "cell_type": "code",
   "execution_count": 2,
   "metadata": {},
   "outputs": [],
   "source": [
    "input_path = \"D:/Sachin/telco-customer-churn\"\n",
    "input_filename = \"WA_Fn-UseC_-Telco-Customer-Churn.csv\""
   ]
  },
  {
   "cell_type": "markdown",
   "metadata": {},
   "source": [
    "#### Loading the data"
   ]
  },
  {
   "cell_type": "code",
   "execution_count": 3,
   "metadata": {},
   "outputs": [],
   "source": [
    "data = pd.read_csv(input_path+\"/\"+input_filename,sep=',')"
   ]
  },
  {
   "cell_type": "markdown",
   "metadata": {},
   "source": [
    "#### Viewing the data"
   ]
  },
  {
   "cell_type": "code",
   "execution_count": 4,
   "metadata": {},
   "outputs": [
    {
     "data": {
      "text/html": [
       "<div>\n",
       "<style scoped>\n",
       "    .dataframe tbody tr th:only-of-type {\n",
       "        vertical-align: middle;\n",
       "    }\n",
       "\n",
       "    .dataframe tbody tr th {\n",
       "        vertical-align: top;\n",
       "    }\n",
       "\n",
       "    .dataframe thead th {\n",
       "        text-align: right;\n",
       "    }\n",
       "</style>\n",
       "<table border=\"1\" class=\"dataframe\">\n",
       "  <thead>\n",
       "    <tr style=\"text-align: right;\">\n",
       "      <th></th>\n",
       "      <th>customerID</th>\n",
       "      <th>gender</th>\n",
       "      <th>SeniorCitizen</th>\n",
       "      <th>Partner</th>\n",
       "      <th>Dependents</th>\n",
       "      <th>tenure</th>\n",
       "      <th>PhoneService</th>\n",
       "      <th>MultipleLines</th>\n",
       "      <th>InternetService</th>\n",
       "      <th>OnlineSecurity</th>\n",
       "      <th>...</th>\n",
       "      <th>DeviceProtection</th>\n",
       "      <th>TechSupport</th>\n",
       "      <th>StreamingTV</th>\n",
       "      <th>StreamingMovies</th>\n",
       "      <th>Contract</th>\n",
       "      <th>PaperlessBilling</th>\n",
       "      <th>PaymentMethod</th>\n",
       "      <th>MonthlyCharges</th>\n",
       "      <th>TotalCharges</th>\n",
       "      <th>Churn</th>\n",
       "    </tr>\n",
       "  </thead>\n",
       "  <tbody>\n",
       "    <tr>\n",
       "      <th>0</th>\n",
       "      <td>7590-VHVEG</td>\n",
       "      <td>Female</td>\n",
       "      <td>0</td>\n",
       "      <td>Yes</td>\n",
       "      <td>No</td>\n",
       "      <td>1</td>\n",
       "      <td>No</td>\n",
       "      <td>No phone service</td>\n",
       "      <td>DSL</td>\n",
       "      <td>No</td>\n",
       "      <td>...</td>\n",
       "      <td>No</td>\n",
       "      <td>No</td>\n",
       "      <td>No</td>\n",
       "      <td>No</td>\n",
       "      <td>Month-to-month</td>\n",
       "      <td>Yes</td>\n",
       "      <td>Electronic check</td>\n",
       "      <td>29.85</td>\n",
       "      <td>29.85</td>\n",
       "      <td>No</td>\n",
       "    </tr>\n",
       "    <tr>\n",
       "      <th>1</th>\n",
       "      <td>5575-GNVDE</td>\n",
       "      <td>Male</td>\n",
       "      <td>0</td>\n",
       "      <td>No</td>\n",
       "      <td>No</td>\n",
       "      <td>34</td>\n",
       "      <td>Yes</td>\n",
       "      <td>No</td>\n",
       "      <td>DSL</td>\n",
       "      <td>Yes</td>\n",
       "      <td>...</td>\n",
       "      <td>Yes</td>\n",
       "      <td>No</td>\n",
       "      <td>No</td>\n",
       "      <td>No</td>\n",
       "      <td>One year</td>\n",
       "      <td>No</td>\n",
       "      <td>Mailed check</td>\n",
       "      <td>56.95</td>\n",
       "      <td>1889.5</td>\n",
       "      <td>No</td>\n",
       "    </tr>\n",
       "    <tr>\n",
       "      <th>2</th>\n",
       "      <td>3668-QPYBK</td>\n",
       "      <td>Male</td>\n",
       "      <td>0</td>\n",
       "      <td>No</td>\n",
       "      <td>No</td>\n",
       "      <td>2</td>\n",
       "      <td>Yes</td>\n",
       "      <td>No</td>\n",
       "      <td>DSL</td>\n",
       "      <td>Yes</td>\n",
       "      <td>...</td>\n",
       "      <td>No</td>\n",
       "      <td>No</td>\n",
       "      <td>No</td>\n",
       "      <td>No</td>\n",
       "      <td>Month-to-month</td>\n",
       "      <td>Yes</td>\n",
       "      <td>Mailed check</td>\n",
       "      <td>53.85</td>\n",
       "      <td>108.15</td>\n",
       "      <td>Yes</td>\n",
       "    </tr>\n",
       "    <tr>\n",
       "      <th>3</th>\n",
       "      <td>7795-CFOCW</td>\n",
       "      <td>Male</td>\n",
       "      <td>0</td>\n",
       "      <td>No</td>\n",
       "      <td>No</td>\n",
       "      <td>45</td>\n",
       "      <td>No</td>\n",
       "      <td>No phone service</td>\n",
       "      <td>DSL</td>\n",
       "      <td>Yes</td>\n",
       "      <td>...</td>\n",
       "      <td>Yes</td>\n",
       "      <td>Yes</td>\n",
       "      <td>No</td>\n",
       "      <td>No</td>\n",
       "      <td>One year</td>\n",
       "      <td>No</td>\n",
       "      <td>Bank transfer (automatic)</td>\n",
       "      <td>42.30</td>\n",
       "      <td>1840.75</td>\n",
       "      <td>No</td>\n",
       "    </tr>\n",
       "    <tr>\n",
       "      <th>4</th>\n",
       "      <td>9237-HQITU</td>\n",
       "      <td>Female</td>\n",
       "      <td>0</td>\n",
       "      <td>No</td>\n",
       "      <td>No</td>\n",
       "      <td>2</td>\n",
       "      <td>Yes</td>\n",
       "      <td>No</td>\n",
       "      <td>Fiber optic</td>\n",
       "      <td>No</td>\n",
       "      <td>...</td>\n",
       "      <td>No</td>\n",
       "      <td>No</td>\n",
       "      <td>No</td>\n",
       "      <td>No</td>\n",
       "      <td>Month-to-month</td>\n",
       "      <td>Yes</td>\n",
       "      <td>Electronic check</td>\n",
       "      <td>70.70</td>\n",
       "      <td>151.65</td>\n",
       "      <td>Yes</td>\n",
       "    </tr>\n",
       "  </tbody>\n",
       "</table>\n",
       "<p>5 rows × 21 columns</p>\n",
       "</div>"
      ],
      "text/plain": [
       "   customerID  gender  SeniorCitizen Partner Dependents  tenure PhoneService  \\\n",
       "0  7590-VHVEG  Female              0     Yes         No       1           No   \n",
       "1  5575-GNVDE    Male              0      No         No      34          Yes   \n",
       "2  3668-QPYBK    Male              0      No         No       2          Yes   \n",
       "3  7795-CFOCW    Male              0      No         No      45           No   \n",
       "4  9237-HQITU  Female              0      No         No       2          Yes   \n",
       "\n",
       "      MultipleLines InternetService OnlineSecurity  ...  DeviceProtection  \\\n",
       "0  No phone service             DSL             No  ...                No   \n",
       "1                No             DSL            Yes  ...               Yes   \n",
       "2                No             DSL            Yes  ...                No   \n",
       "3  No phone service             DSL            Yes  ...               Yes   \n",
       "4                No     Fiber optic             No  ...                No   \n",
       "\n",
       "  TechSupport StreamingTV StreamingMovies        Contract PaperlessBilling  \\\n",
       "0          No          No              No  Month-to-month              Yes   \n",
       "1          No          No              No        One year               No   \n",
       "2          No          No              No  Month-to-month              Yes   \n",
       "3         Yes          No              No        One year               No   \n",
       "4          No          No              No  Month-to-month              Yes   \n",
       "\n",
       "               PaymentMethod MonthlyCharges  TotalCharges Churn  \n",
       "0           Electronic check          29.85         29.85    No  \n",
       "1               Mailed check          56.95        1889.5    No  \n",
       "2               Mailed check          53.85        108.15   Yes  \n",
       "3  Bank transfer (automatic)          42.30       1840.75    No  \n",
       "4           Electronic check          70.70        151.65   Yes  \n",
       "\n",
       "[5 rows x 21 columns]"
      ]
     },
     "execution_count": 4,
     "metadata": {},
     "output_type": "execute_result"
    }
   ],
   "source": [
    "data.head()"
   ]
  },
  {
   "cell_type": "markdown",
   "metadata": {},
   "source": [
    "#### Checking the datatype of all the features"
   ]
  },
  {
   "cell_type": "code",
   "execution_count": 5,
   "metadata": {},
   "outputs": [
    {
     "data": {
      "text/plain": [
       "customerID           object\n",
       "gender               object\n",
       "SeniorCitizen         int64\n",
       "Partner              object\n",
       "Dependents           object\n",
       "tenure                int64\n",
       "PhoneService         object\n",
       "MultipleLines        object\n",
       "InternetService      object\n",
       "OnlineSecurity       object\n",
       "OnlineBackup         object\n",
       "DeviceProtection     object\n",
       "TechSupport          object\n",
       "StreamingTV          object\n",
       "StreamingMovies      object\n",
       "Contract             object\n",
       "PaperlessBilling     object\n",
       "PaymentMethod        object\n",
       "MonthlyCharges      float64\n",
       "TotalCharges         object\n",
       "Churn                object\n",
       "dtype: object"
      ]
     },
     "execution_count": 5,
     "metadata": {},
     "output_type": "execute_result"
    }
   ],
   "source": [
    "data.dtypes"
   ]
  },
  {
   "cell_type": "markdown",
   "metadata": {},
   "source": [
    "#### Changing the datatype of the column from string to float"
   ]
  },
  {
   "cell_type": "code",
   "execution_count": 6,
   "metadata": {},
   "outputs": [],
   "source": [
    "data[\"TotalCharges\"] = pd.to_numeric(data[\"TotalCharges\"],errors=\"coerce\")"
   ]
  },
  {
   "cell_type": "markdown",
   "metadata": {},
   "source": [
    "#### To check the number of null values in the dataset"
   ]
  },
  {
   "cell_type": "code",
   "execution_count": 7,
   "metadata": {},
   "outputs": [
    {
     "data": {
      "text/plain": [
       "customerID           0\n",
       "gender               0\n",
       "SeniorCitizen        0\n",
       "Partner              0\n",
       "Dependents           0\n",
       "tenure               0\n",
       "PhoneService         0\n",
       "MultipleLines        0\n",
       "InternetService      0\n",
       "OnlineSecurity       0\n",
       "OnlineBackup         0\n",
       "DeviceProtection     0\n",
       "TechSupport          0\n",
       "StreamingTV          0\n",
       "StreamingMovies      0\n",
       "Contract             0\n",
       "PaperlessBilling     0\n",
       "PaymentMethod        0\n",
       "MonthlyCharges       0\n",
       "TotalCharges        11\n",
       "Churn                0\n",
       "dtype: int64"
      ]
     },
     "execution_count": 7,
     "metadata": {},
     "output_type": "execute_result"
    }
   ],
   "source": [
    "data.isnull().sum()"
   ]
  },
  {
   "cell_type": "markdown",
   "metadata": {},
   "source": [
    "#### Summary of the data"
   ]
  },
  {
   "cell_type": "code",
   "execution_count": 8,
   "metadata": {},
   "outputs": [
    {
     "data": {
      "text/html": [
       "<div>\n",
       "<style scoped>\n",
       "    .dataframe tbody tr th:only-of-type {\n",
       "        vertical-align: middle;\n",
       "    }\n",
       "\n",
       "    .dataframe tbody tr th {\n",
       "        vertical-align: top;\n",
       "    }\n",
       "\n",
       "    .dataframe thead th {\n",
       "        text-align: right;\n",
       "    }\n",
       "</style>\n",
       "<table border=\"1\" class=\"dataframe\">\n",
       "  <thead>\n",
       "    <tr style=\"text-align: right;\">\n",
       "      <th></th>\n",
       "      <th>customerID</th>\n",
       "      <th>gender</th>\n",
       "      <th>Partner</th>\n",
       "      <th>Dependents</th>\n",
       "      <th>PhoneService</th>\n",
       "      <th>MultipleLines</th>\n",
       "      <th>InternetService</th>\n",
       "      <th>OnlineSecurity</th>\n",
       "      <th>OnlineBackup</th>\n",
       "      <th>DeviceProtection</th>\n",
       "      <th>TechSupport</th>\n",
       "      <th>StreamingTV</th>\n",
       "      <th>StreamingMovies</th>\n",
       "      <th>Contract</th>\n",
       "      <th>PaperlessBilling</th>\n",
       "      <th>PaymentMethod</th>\n",
       "      <th>Churn</th>\n",
       "    </tr>\n",
       "  </thead>\n",
       "  <tbody>\n",
       "    <tr>\n",
       "      <th>count</th>\n",
       "      <td>7043</td>\n",
       "      <td>7043</td>\n",
       "      <td>7043</td>\n",
       "      <td>7043</td>\n",
       "      <td>7043</td>\n",
       "      <td>7043</td>\n",
       "      <td>7043</td>\n",
       "      <td>7043</td>\n",
       "      <td>7043</td>\n",
       "      <td>7043</td>\n",
       "      <td>7043</td>\n",
       "      <td>7043</td>\n",
       "      <td>7043</td>\n",
       "      <td>7043</td>\n",
       "      <td>7043</td>\n",
       "      <td>7043</td>\n",
       "      <td>7043</td>\n",
       "    </tr>\n",
       "    <tr>\n",
       "      <th>unique</th>\n",
       "      <td>7043</td>\n",
       "      <td>2</td>\n",
       "      <td>2</td>\n",
       "      <td>2</td>\n",
       "      <td>2</td>\n",
       "      <td>3</td>\n",
       "      <td>3</td>\n",
       "      <td>3</td>\n",
       "      <td>3</td>\n",
       "      <td>3</td>\n",
       "      <td>3</td>\n",
       "      <td>3</td>\n",
       "      <td>3</td>\n",
       "      <td>3</td>\n",
       "      <td>2</td>\n",
       "      <td>4</td>\n",
       "      <td>2</td>\n",
       "    </tr>\n",
       "    <tr>\n",
       "      <th>top</th>\n",
       "      <td>2657-VPXTA</td>\n",
       "      <td>Male</td>\n",
       "      <td>No</td>\n",
       "      <td>No</td>\n",
       "      <td>Yes</td>\n",
       "      <td>No</td>\n",
       "      <td>Fiber optic</td>\n",
       "      <td>No</td>\n",
       "      <td>No</td>\n",
       "      <td>No</td>\n",
       "      <td>No</td>\n",
       "      <td>No</td>\n",
       "      <td>No</td>\n",
       "      <td>Month-to-month</td>\n",
       "      <td>Yes</td>\n",
       "      <td>Electronic check</td>\n",
       "      <td>No</td>\n",
       "    </tr>\n",
       "    <tr>\n",
       "      <th>freq</th>\n",
       "      <td>1</td>\n",
       "      <td>3555</td>\n",
       "      <td>3641</td>\n",
       "      <td>4933</td>\n",
       "      <td>6361</td>\n",
       "      <td>3390</td>\n",
       "      <td>3096</td>\n",
       "      <td>3498</td>\n",
       "      <td>3088</td>\n",
       "      <td>3095</td>\n",
       "      <td>3473</td>\n",
       "      <td>2810</td>\n",
       "      <td>2785</td>\n",
       "      <td>3875</td>\n",
       "      <td>4171</td>\n",
       "      <td>2365</td>\n",
       "      <td>5174</td>\n",
       "    </tr>\n",
       "  </tbody>\n",
       "</table>\n",
       "</div>"
      ],
      "text/plain": [
       "        customerID gender Partner Dependents PhoneService MultipleLines  \\\n",
       "count         7043   7043    7043       7043         7043          7043   \n",
       "unique        7043      2       2          2            2             3   \n",
       "top     2657-VPXTA   Male      No         No          Yes            No   \n",
       "freq             1   3555    3641       4933         6361          3390   \n",
       "\n",
       "       InternetService OnlineSecurity OnlineBackup DeviceProtection  \\\n",
       "count             7043           7043         7043             7043   \n",
       "unique               3              3            3                3   \n",
       "top        Fiber optic             No           No               No   \n",
       "freq              3096           3498         3088             3095   \n",
       "\n",
       "       TechSupport StreamingTV StreamingMovies        Contract  \\\n",
       "count         7043        7043            7043            7043   \n",
       "unique           3           3               3               3   \n",
       "top             No          No              No  Month-to-month   \n",
       "freq          3473        2810            2785            3875   \n",
       "\n",
       "       PaperlessBilling     PaymentMethod Churn  \n",
       "count              7043              7043  7043  \n",
       "unique                2                 4     2  \n",
       "top                 Yes  Electronic check    No  \n",
       "freq               4171              2365  5174  "
      ]
     },
     "execution_count": 8,
     "metadata": {},
     "output_type": "execute_result"
    }
   ],
   "source": [
    "summary = data.describe(include=[\"O\"])\n",
    "summary"
   ]
  },
  {
   "cell_type": "markdown",
   "metadata": {},
   "source": [
    "#### From the summary table,it is clear that the following features are categorical:"
   ]
  },
  {
   "cell_type": "markdown",
   "metadata": {},
   "source": [
    "Gender,Partner,Dependents,PhoneService,MultipleLines,InternetService,OnlineSecurity,OnlineBackup,\n",
    "DeviceProtection,TechSupport,StreamingTV,StreamingMovies,Contract,PaperlessBilling,PaymentMethod "
   ]
  },
  {
   "cell_type": "markdown",
   "metadata": {},
   "source": [
    "#### Dropping rows with any null value"
   ]
  },
  {
   "cell_type": "code",
   "execution_count": 9,
   "metadata": {},
   "outputs": [],
   "source": [
    "data.dropna(how=\"any\",inplace=True)"
   ]
  },
  {
   "cell_type": "markdown",
   "metadata": {},
   "source": [
    "####  Rechecking for any null values in the dataset"
   ]
  },
  {
   "cell_type": "code",
   "execution_count": 10,
   "metadata": {},
   "outputs": [
    {
     "data": {
      "text/plain": [
       "customerID          0\n",
       "gender              0\n",
       "SeniorCitizen       0\n",
       "Partner             0\n",
       "Dependents          0\n",
       "tenure              0\n",
       "PhoneService        0\n",
       "MultipleLines       0\n",
       "InternetService     0\n",
       "OnlineSecurity      0\n",
       "OnlineBackup        0\n",
       "DeviceProtection    0\n",
       "TechSupport         0\n",
       "StreamingTV         0\n",
       "StreamingMovies     0\n",
       "Contract            0\n",
       "PaperlessBilling    0\n",
       "PaymentMethod       0\n",
       "MonthlyCharges      0\n",
       "TotalCharges        0\n",
       "Churn               0\n",
       "dtype: int64"
      ]
     },
     "execution_count": 10,
     "metadata": {},
     "output_type": "execute_result"
    }
   ],
   "source": [
    "data.isnull().sum()"
   ]
  },
  {
   "cell_type": "markdown",
   "metadata": {},
   "source": [
    "#### Splitting Continuous And Categorical Variables"
   ]
  },
  {
   "cell_type": "code",
   "execution_count": 11,
   "metadata": {},
   "outputs": [],
   "source": [
    "data_cont = ['tenure','MonthlyCharges', 'TotalCharges']\n",
    "data_cat = ['gender', 'SeniorCitizen', 'Partner', 'Dependents',\n",
    "            'PhoneService', 'MultipleLines', 'InternetService',\n",
    "            'OnlineSecurity', 'OnlineBackup', 'DeviceProtection',\n",
    "            'TechSupport','StreamingTV','StreamingMovies',\n",
    "            'Contract', 'PaperlessBilling','PaymentMethod']"
   ]
  },
  {
   "cell_type": "markdown",
   "metadata": {},
   "source": [
    "#### Plotting Distribution Of The Data"
   ]
  },
  {
   "cell_type": "code",
   "execution_count": 12,
   "metadata": {},
   "outputs": [
    {
     "data": {
      "text/plain": [
       "<seaborn.axisgrid.FacetGrid at 0x6587896780>"
      ]
     },
     "execution_count": 12,
     "metadata": {},
     "output_type": "execute_result"
    },
    {
     "data": {
      "image/png": "[encoded data removed]",
      "text/plain": [
       "<matplotlib.figure.Figure at 0x6587896198>"
      ]
     },
     "metadata": {},
     "output_type": "display_data"
    }
   ],
   "source": [
    "sns.catplot(x=\"Churn\", kind=\"count\", data=data,orient='h')"
   ]
  },
  {
   "cell_type": "markdown",
   "metadata": {},
   "source": [
    "#### Count Plot Of All Categorical Variables With Churn"
   ]
  },
  {
   "cell_type": "code",
   "execution_count": 13,
   "metadata": {},
   "outputs": [
    {
     "data": {
      "image/png": "[encoded data removed]",
      "text/plain": [
       "<matplotlib.figure.Figure at 0x65877e65c0>"
      ]
     },
     "metadata": {},
     "output_type": "display_data"
    }
   ],
   "source": [
    "fig , ax = plt.subplots(4,4,figsize=(20,20))\n",
    "sns.set(style=\"ticks\", color_codes=True)\n",
    "for axis,col in zip(ax.flat,data_cat):\n",
    "    sns.countplot(x=data[\"Churn\"],hue=data[col],ax=axis)"
   ]
  },
  {
   "cell_type": "markdown",
   "metadata": {},
   "source": [
    "#### Checking For Outliers In Numeric Variables"
   ]
  },
  {
   "cell_type": "code",
   "execution_count": 14,
   "metadata": {
    "scrolled": true
   },
   "outputs": [
    {
     "data": {
      "text/plain": [
       "<matplotlib.axes._subplots.AxesSubplot at 0x658a3c1048>"
      ]
     },
     "execution_count": 14,
     "metadata": {},
     "output_type": "execute_result"
    },
    {
     "data": {
      "image/png": "[encoded data removed]",
      "text/plain": [
       "<matplotlib.figure.Figure at 0x6589d1f400>"
      ]
     },
     "metadata": {},
     "output_type": "display_data"
    }
   ],
   "source": [
    "fig,ax = plt.subplots(1, 3, figsize=(20,5))\n",
    "sns.boxplot(x=data[\"tenure\"], orient=\"h\", color=\"purple\",ax=ax[0])\n",
    "sns.boxplot(x=data[\"MonthlyCharges\"], orient=\"h\", color=\"olive\",ax=ax[1])\n",
    "sns.boxplot(x=data[\"TotalCharges\"] , orient=\"h\", color=\"green\",ax=ax[2])"
   ]
  },
  {
   "cell_type": "markdown",
   "metadata": {},
   "source": [
    "Clearly there are no outliers in the data"
   ]
  },
  {
   "cell_type": "markdown",
   "metadata": {},
   "source": [
    "#### Vizualizing the Numeric variables"
   ]
  },
  {
   "cell_type": "code",
   "execution_count": 15,
   "metadata": {},
   "outputs": [
    {
     "data": {
      "text/plain": [
       "<matplotlib.axes._subplots.AxesSubplot at 0x658a4d5c50>"
      ]
     },
     "execution_count": 15,
     "metadata": {},
     "output_type": "execute_result"
    },
    {
     "data": {
      "image/png": "[encoded data removed]",
      "text/plain": [
       "<matplotlib.figure.Figure at 0x658a4667b8>"
      ]
     },
     "metadata": {},
     "output_type": "display_data"
    }
   ],
   "source": [
    "fig,ax = plt.subplots(1,3,figsize=(15,5))\n",
    "\n",
    "sns.distplot(data[\"tenure\"],bins=10,kde=False,color=\"purple\",ax=ax[0])\n",
    "sns.distplot(data[\"MonthlyCharges\"],bins=10,kde=False,color=\"olive\",ax=ax[1])\n",
    "sns.distplot(data[\"TotalCharges\"],bins=10,kde=False,color=\"green\",ax=ax[2])"
   ]
  },
  {
   "cell_type": "markdown",
   "metadata": {},
   "source": [
    "#### Correlation between churn and numerical variables"
   ]
  },
  {
   "cell_type": "code",
   "execution_count": 16,
   "metadata": {},
   "outputs": [
    {
     "data": {
      "image/png": "[encoded data removed]",
      "text/plain": [
       "<matplotlib.figure.Figure at 0x658a51e978>"
      ]
     },
     "metadata": {},
     "output_type": "display_data"
    }
   ],
   "source": [
    "NumHistTenure = sns.FacetGrid(data,col=\"Churn\",height=6,aspect=1)\n",
    "NumHistTenure = NumHistTenure.map(plt.hist, \"tenure\",bins=20,color=\"purple\")"
   ]
  },
  {
   "cell_type": "code",
   "execution_count": 17,
   "metadata": {},
   "outputs": [
    {
     "data": {
      "image/png": "[encoded data removed]",
      "text/plain": [
       "<matplotlib.figure.Figure at 0x658bce94a8>"
      ]
     },
     "metadata": {},
     "output_type": "display_data"
    }
   ],
   "source": [
    "NumHistMC = sns.FacetGrid(data,col=\"Churn\",height=6,aspect=1)\n",
    "NumHistMC = NumHistMC.map(plt.hist, \"MonthlyCharges\",bins=20,color=\"olive\")"
   ]
  },
  {
   "cell_type": "code",
   "execution_count": 18,
   "metadata": {},
   "outputs": [
    {
     "data": {
      "image/png": "[encoded data removed]",
      "text/plain": [
       "<matplotlib.figure.Figure at 0x658c59dfd0>"
      ]
     },
     "metadata": {},
     "output_type": "display_data"
    }
   ],
   "source": [
    "NumHistTC = sns.FacetGrid(data,col=\"Churn\",height=6,aspect=1)\n",
    "NumHistTC = NumHistTC.map(plt.hist, \"TotalCharges\",bins=20,color=\"green\")"
   ]
  },
  {
   "cell_type": "markdown",
   "metadata": {},
   "source": [
    "#### Instantiating a scalar and scaleing the data."
   ]
  },
  {
   "cell_type": "code",
   "execution_count": 19,
   "metadata": {},
   "outputs": [],
   "source": [
    "scaler = StandardScaler()\n",
    "data_continuous = scaler.fit_transform(data[data_cont])"
   ]
  },
  {
   "cell_type": "markdown",
   "metadata": {},
   "source": [
    "#### Instantiating an encoder and encoding the data."
   ]
  },
  {
   "cell_type": "code",
   "execution_count": 20,
   "metadata": {},
   "outputs": [],
   "source": [
    "for cols in data_cat:\n",
    "    data.loc[:,cols] = LabelEncoder().fit_transform(data.loc[:,cols])\n",
    "\n",
    "onehotencoder = OneHotEncoder(sparse=False)\n",
    "data_categorical = onehotencoder.fit_transform(data[data_cat])"
   ]
  },
  {
   "cell_type": "markdown",
   "metadata": {},
   "source": [
    "#### Concatenate Processed Continuous And Categorical Columns Back Together"
   ]
  },
  {
   "cell_type": "code",
   "execution_count": 21,
   "metadata": {},
   "outputs": [],
   "source": [
    "features = np.concatenate([data_continuous, data_categorical], axis=1)\n",
    "\n",
    "target = data.iloc[:,20:].values\n",
    "target = LabelEncoder().fit_transform(target)"
   ]
  },
  {
   "cell_type": "markdown",
   "metadata": {},
   "source": [
    "#### Splitting data to test and train"
   ]
  },
  {
   "cell_type": "code",
   "execution_count": 22,
   "metadata": {},
   "outputs": [],
   "source": [
    "X_train, X_test, y_train, y_test = train_test_split(features, target, test_size = 0.2, random_state = 0)"
   ]
  },
  {
   "cell_type": "markdown",
   "metadata": {},
   "source": [
    "### Building a sequential model"
   ]
  },
  {
   "cell_type": "code",
   "execution_count": 23,
   "metadata": {},
   "outputs": [],
   "source": [
    "classifier = Sequential()\n",
    "classifier.add(Dense(units=6,kernel_initializer=\"uniform\",activation=\"relu\",input_shape=(46,)))\n",
    "classifier.add(BatchNormalization(axis=-1, momentum=0.99, epsilon=0.001, center=True, scale=True))\n",
    "classifier.add(Dense(units=6,kernel_initializer=\"uniform\",activation=\"relu\"))\n",
    "classifier.add(BatchNormalization(axis=-1, momentum=0.99, epsilon=0.001, center=True, scale=True))\n",
    "classifier.add(Dense(units=6,kernel_initializer=\"uniform\",activation=\"relu\"))\n",
    "classifier.add(BatchNormalization(axis=-1, momentum=0.99, epsilon=0.001, center=True, scale=True))\n",
    "classifier.add(Dropout(0.2))\n",
    "classifier.add(Dense(units=1,kernel_initializer=\"uniform\",activation=\"sigmoid\"))\n",
    "classifier.compile(optimizer = 'adam', loss = 'binary_crossentropy', metrics = ['accuracy'])"
   ]
  },
  {
   "cell_type": "markdown",
   "metadata": {},
   "source": [
    "#### Training the classifier"
   ]
  },
  {
   "cell_type": "code",
   "execution_count": 28,
   "metadata": {},
   "outputs": [
    {
     "name": "stdout",
     "output_type": "stream",
     "text": [
      "Epoch 1/100\n",
      "5625/5625 [==============================] - 0s 22us/step - loss: 0.3973 - acc: 0.8126\n",
      "Epoch 2/100\n",
      "5625/5625 [==============================] - 0s 26us/step - loss: 0.4014 - acc: 0.8057\n",
      "Epoch 3/100\n",
      "5625/5625 [==============================] - 0s 23us/step - loss: 0.4029 - acc: 0.8117\n",
      "Epoch 4/100\n",
      "5625/5625 [==============================] - 0s 22us/step - loss: 0.3999 - acc: 0.8124\n",
      "Epoch 5/100\n",
      "5625/5625 [==============================] - 0s 25us/step - loss: 0.4003 - acc: 0.8071\n",
      "Epoch 6/100\n",
      "5625/5625 [==============================] - 0s 28us/step - loss: 0.4012 - acc: 0.8121\n",
      "Epoch 7/100\n",
      "5625/5625 [==============================] - 0s 22us/step - loss: 0.4014 - acc: 0.8030\n",
      "Epoch 8/100\n",
      "5625/5625 [==============================] - 0s 23us/step - loss: 0.4000 - acc: 0.8101\n",
      "Epoch 9/100\n",
      "5625/5625 [==============================] - 0s 22us/step - loss: 0.3981 - acc: 0.8098\n",
      "Epoch 10/100\n",
      "5625/5625 [==============================] - 0s 25us/step - loss: 0.3978 - acc: 0.8123\n",
      "Epoch 11/100\n",
      "5625/5625 [==============================] - 0s 24us/step - loss: 0.3958 - acc: 0.8100\n",
      "Epoch 12/100\n",
      "5625/5625 [==============================] - 0s 22us/step - loss: 0.3978 - acc: 0.8101\n",
      "Epoch 13/100\n",
      "5625/5625 [==============================] - 0s 26us/step - loss: 0.3992 - acc: 0.8114\n",
      "Epoch 14/100\n",
      "5625/5625 [==============================] - 0s 28us/step - loss: 0.4026 - acc: 0.8075\n",
      "Epoch 15/100\n",
      "5625/5625 [==============================] - 0s 25us/step - loss: 0.3958 - acc: 0.8087\n",
      "Epoch 16/100\n",
      "5625/5625 [==============================] - 0s 24us/step - loss: 0.3992 - acc: 0.8034\n",
      "Epoch 17/100\n",
      "5625/5625 [==============================] - 0s 33us/step - loss: 0.3978 - acc: 0.8080\n",
      "Epoch 18/100\n",
      "5625/5625 [==============================] - 0s 25us/step - loss: 0.3970 - acc: 0.8140\n",
      "Epoch 19/100\n",
      "5625/5625 [==============================] - 0s 24us/step - loss: 0.4042 - acc: 0.8078\n",
      "Epoch 20/100\n",
      "5625/5625 [==============================] - 0s 31us/step - loss: 0.3987 - acc: 0.8103\n",
      "Epoch 21/100\n",
      "5625/5625 [==============================] - 0s 29us/step - loss: 0.4001 - acc: 0.8096\n",
      "Epoch 22/100\n",
      "5625/5625 [==============================] - 0s 25us/step - loss: 0.4021 - acc: 0.8055\n",
      "Epoch 23/100\n",
      "5625/5625 [==============================] - 0s 28us/step - loss: 0.3962 - acc: 0.8062\n",
      "Epoch 24/100\n",
      "5625/5625 [==============================] - 0s 25us/step - loss: 0.3971 - acc: 0.8119\n",
      "Epoch 25/100\n",
      "5625/5625 [==============================] - 0s 22us/step - loss: 0.3981 - acc: 0.8155\n",
      "Epoch 26/100\n",
      "5625/5625 [==============================] - 0s 28us/step - loss: 0.3998 - acc: 0.8085\n",
      "Epoch 27/100\n",
      "5625/5625 [==============================] - 0s 22us/step - loss: 0.3972 - acc: 0.8123\n",
      "Epoch 28/100\n",
      "5625/5625 [==============================] - 0s 25us/step - loss: 0.3985 - acc: 0.8089\n",
      "Epoch 29/100\n",
      "5625/5625 [==============================] - 0s 22us/step - loss: 0.4000 - acc: 0.8101\n",
      "Epoch 30/100\n",
      "5625/5625 [==============================] - 0s 28us/step - loss: 0.3993 - acc: 0.8132\n",
      "Epoch 31/100\n",
      "5625/5625 [==============================] - 0s 26us/step - loss: 0.3993 - acc: 0.8091\n",
      "Epoch 32/100\n",
      "5625/5625 [==============================] - 0s 25us/step - loss: 0.3976 - acc: 0.8103\n",
      "Epoch 33/100\n",
      "5625/5625 [==============================] - 0s 28us/step - loss: 0.3957 - acc: 0.8078\n",
      "Epoch 34/100\n",
      "5625/5625 [==============================] - 0s 34us/step - loss: 0.3950 - acc: 0.8096\n",
      "Epoch 35/100\n",
      "5625/5625 [==============================] - 0s 28us/step - loss: 0.4009 - acc: 0.8110\n",
      "Epoch 36/100\n",
      "5625/5625 [==============================] - 0s 22us/step - loss: 0.3958 - acc: 0.8144\n",
      "Epoch 37/100\n",
      "5625/5625 [==============================] - 0s 26us/step - loss: 0.3993 - acc: 0.8092\n",
      "Epoch 38/100\n",
      "5625/5625 [==============================] - 0s 25us/step - loss: 0.3983 - acc: 0.8052\n",
      "Epoch 39/100\n",
      "5625/5625 [==============================] - 0s 25us/step - loss: 0.4036 - acc: 0.8071\n",
      "Epoch 40/100\n",
      "5625/5625 [==============================] - 0s 25us/step - loss: 0.4000 - acc: 0.8057\n",
      "Epoch 41/100\n",
      "5625/5625 [==============================] - 0s 25us/step - loss: 0.3967 - acc: 0.8124\n",
      "Epoch 42/100\n",
      "5625/5625 [==============================] - 0s 22us/step - loss: 0.3953 - acc: 0.8124\n",
      "Epoch 43/100\n",
      "5625/5625 [==============================] - 0s 25us/step - loss: 0.3989 - acc: 0.8071\n",
      "Epoch 44/100\n",
      "5625/5625 [==============================] - 0s 25us/step - loss: 0.4001 - acc: 0.8135\n",
      "Epoch 45/100\n",
      "5625/5625 [==============================] - 0s 22us/step - loss: 0.3962 - acc: 0.8119\n",
      "Epoch 46/100\n",
      "5625/5625 [==============================] - 0s 25us/step - loss: 0.3947 - acc: 0.8142\n",
      "Epoch 47/100\n",
      "5625/5625 [==============================] - 0s 24us/step - loss: 0.3985 - acc: 0.8076\n",
      "Epoch 48/100\n",
      "5625/5625 [==============================] - 0s 22us/step - loss: 0.3956 - acc: 0.8091\n",
      "Epoch 49/100\n",
      "5625/5625 [==============================] - 0s 24us/step - loss: 0.3974 - acc: 0.8080\n",
      "Epoch 50/100\n",
      "5625/5625 [==============================] - 0s 23us/step - loss: 0.3972 - acc: 0.8094\n",
      "Epoch 51/100\n",
      "5625/5625 [==============================] - 0s 24us/step - loss: 0.3999 - acc: 0.8055\n",
      "Epoch 52/100\n",
      "5625/5625 [==============================] - 0s 25us/step - loss: 0.3937 - acc: 0.8121\n",
      "Epoch 53/100\n",
      "5625/5625 [==============================] - 0s 25us/step - loss: 0.3968 - acc: 0.8126\n",
      "Epoch 54/100\n",
      "5625/5625 [==============================] - 0s 25us/step - loss: 0.3954 - acc: 0.8165\n",
      "Epoch 55/100\n",
      "5625/5625 [==============================] - 0s 22us/step - loss: 0.3976 - acc: 0.8110\n",
      "Epoch 56/100\n",
      "5625/5625 [==============================] - 0s 25us/step - loss: 0.3980 - acc: 0.8073\n",
      "Epoch 57/100\n",
      "5625/5625 [==============================] - 0s 28us/step - loss: 0.3993 - acc: 0.8112\n",
      "Epoch 58/100\n",
      "5625/5625 [==============================] - 0s 25us/step - loss: 0.3956 - acc: 0.8098\n",
      "Epoch 59/100\n",
      "5625/5625 [==============================] - 0s 25us/step - loss: 0.3993 - acc: 0.8098\n",
      "Epoch 60/100\n",
      "5625/5625 [==============================] - 0s 22us/step - loss: 0.3990 - acc: 0.8098\n",
      "Epoch 61/100\n",
      "5625/5625 [==============================] - 0s 25us/step - loss: 0.3948 - acc: 0.8108\n",
      "Epoch 62/100\n",
      "5625/5625 [==============================] - 0s 22us/step - loss: 0.3959 - acc: 0.8062\n",
      "Epoch 63/100\n",
      "5625/5625 [==============================] - 0s 25us/step - loss: 0.3973 - acc: 0.8100\n",
      "Epoch 64/100\n",
      "5625/5625 [==============================] - 0s 25us/step - loss: 0.3976 - acc: 0.8096\n",
      "Epoch 65/100\n",
      "5625/5625 [==============================] - 0s 25us/step - loss: 0.3961 - acc: 0.8146\n",
      "Epoch 66/100\n",
      "5625/5625 [==============================] - 0s 25us/step - loss: 0.3942 - acc: 0.8130\n",
      "Epoch 67/100\n",
      "5625/5625 [==============================] - 0s 25us/step - loss: 0.3968 - acc: 0.8114\n",
      "Epoch 68/100\n",
      "5625/5625 [==============================] - 0s 31us/step - loss: 0.3969 - acc: 0.8098\n",
      "Epoch 69/100\n",
      "5625/5625 [==============================] - 0s 27us/step - loss: 0.3945 - acc: 0.8098\n",
      "Epoch 70/100\n",
      "5625/5625 [==============================] - 0s 25us/step - loss: 0.3999 - acc: 0.8073\n",
      "Epoch 71/100\n",
      "5625/5625 [==============================] - 0s 22us/step - loss: 0.3990 - acc: 0.8096\n",
      "Epoch 72/100\n",
      "5625/5625 [==============================] - 0s 25us/step - loss: 0.3946 - acc: 0.8172\n",
      "Epoch 73/100\n",
      "5625/5625 [==============================] - 0s 32us/step - loss: 0.3956 - acc: 0.8091\n",
      "Epoch 74/100\n",
      "5625/5625 [==============================] - 0s 28us/step - loss: 0.3984 - acc: 0.8078\n",
      "Epoch 75/100\n",
      "5625/5625 [==============================] - 0s 27us/step - loss: 0.3990 - acc: 0.8105\n",
      "Epoch 76/100\n",
      "5625/5625 [==============================] - 0s 25us/step - loss: 0.4030 - acc: 0.8066\n",
      "Epoch 77/100\n",
      "5625/5625 [==============================] - 0s 23us/step - loss: 0.4026 - acc: 0.8057\n",
      "Epoch 78/100\n",
      "5625/5625 [==============================] - 0s 22us/step - loss: 0.4054 - acc: 0.8060\n",
      "Epoch 79/100\n",
      "5625/5625 [==============================] - 0s 25us/step - loss: 0.4027 - acc: 0.8098\n",
      "Epoch 80/100\n",
      "5625/5625 [==============================] - 0s 22us/step - loss: 0.4015 - acc: 0.8092\n",
      "Epoch 81/100\n",
      "5625/5625 [==============================] - 0s 28us/step - loss: 0.3989 - acc: 0.8128\n",
      "Epoch 82/100\n",
      "5625/5625 [==============================] - 0s 25us/step - loss: 0.3984 - acc: 0.8076\n",
      "Epoch 83/100\n"
     ]
    },
    {
     "name": "stdout",
     "output_type": "stream",
     "text": [
      "5625/5625 [==============================] - 0s 25us/step - loss: 0.3995 - acc: 0.8055\n",
      "Epoch 84/100\n",
      "5625/5625 [==============================] - 0s 31us/step - loss: 0.3964 - acc: 0.8094\n",
      "Epoch 85/100\n",
      "5625/5625 [==============================] - 0s 25us/step - loss: 0.3972 - acc: 0.8096\n",
      "Epoch 86/100\n",
      "5625/5625 [==============================] - 0s 25us/step - loss: 0.3990 - acc: 0.8092\n",
      "Epoch 87/100\n",
      "5625/5625 [==============================] - 0s 26us/step - loss: 0.3978 - acc: 0.8137\n",
      "Epoch 88/100\n",
      "5625/5625 [==============================] - 0s 23us/step - loss: 0.3992 - acc: 0.8039\n",
      "Epoch 89/100\n",
      "5625/5625 [==============================] - 0s 25us/step - loss: 0.3952 - acc: 0.8116\n",
      "Epoch 90/100\n",
      "5625/5625 [==============================] - 0s 25us/step - loss: 0.3934 - acc: 0.8087\n",
      "Epoch 91/100\n",
      "5625/5625 [==============================] - 0s 26us/step - loss: 0.3971 - acc: 0.8100\n",
      "Epoch 92/100\n",
      "5625/5625 [==============================] - 0s 25us/step - loss: 0.3976 - acc: 0.8116\n",
      "Epoch 93/100\n",
      "5625/5625 [==============================] - 0s 24us/step - loss: 0.3953 - acc: 0.8124\n",
      "Epoch 94/100\n",
      "5625/5625 [==============================] - 0s 24us/step - loss: 0.3986 - acc: 0.8094\n",
      "Epoch 95/100\n",
      "5625/5625 [==============================] - 0s 25us/step - loss: 0.3962 - acc: 0.8057\n",
      "Epoch 96/100\n",
      "5625/5625 [==============================] - 0s 25us/step - loss: 0.3926 - acc: 0.8117\n",
      "Epoch 97/100\n",
      "5625/5625 [==============================] - 0s 25us/step - loss: 0.3947 - acc: 0.8105\n",
      "Epoch 98/100\n",
      "5625/5625 [==============================] - 0s 25us/step - loss: 0.3962 - acc: 0.8066\n",
      "Epoch 99/100\n",
      "5625/5625 [==============================] - 0s 22us/step - loss: 0.3937 - acc: 0.8112\n",
      "Epoch 100/100\n",
      "5625/5625 [==============================] - 0s 25us/step - loss: 0.3958 - acc: 0.8105\n"
     ]
    },
    {
     "data": {
      "text/plain": [
       "<keras.callbacks.History at 0x6591365fd0>"
      ]
     },
     "execution_count": 28,
     "metadata": {},
     "output_type": "execute_result"
    }
   ],
   "source": [
    "classifier.fit(X_train, y_train, batch_size = 100, nb_epoch = 100)"
   ]
  },
  {
   "cell_type": "markdown",
   "metadata": {},
   "source": [
    "#### Prediciting churn"
   ]
  },
  {
   "cell_type": "code",
   "execution_count": 29,
   "metadata": {},
   "outputs": [],
   "source": [
    "y_pred = classifier.predict(X_test)\n",
    "y_pred = (y_pred > 0.5)"
   ]
  },
  {
   "cell_type": "markdown",
   "metadata": {},
   "source": [
    "#### Classification Report"
   ]
  },
  {
   "cell_type": "code",
   "execution_count": 30,
   "metadata": {},
   "outputs": [
    {
     "name": "stdout",
     "output_type": "stream",
     "text": [
      "             precision    recall  f1-score   support\n",
      "\n",
      "          0       0.83      0.89      0.86      1038\n",
      "          1       0.62      0.50      0.55       369\n",
      "\n",
      "avg / total       0.78      0.79      0.78      1407\n",
      "\n"
     ]
    }
   ],
   "source": [
    "print(classification_report(y_test,y_pred))"
   ]
  },
  {
   "cell_type": "markdown",
   "metadata": {},
   "source": [
    "#### Genreating a confusion matrix to evaluate the results"
   ]
  },
  {
   "cell_type": "code",
   "execution_count": 31,
   "metadata": {},
   "outputs": [
    {
     "data": {
      "text/plain": [
       "Text(89.18,0.5,'predicted label')"
      ]
     },
     "execution_count": 31,
     "metadata": {},
     "output_type": "execute_result"
    },
    {
     "data": {
      "image/png": "[encoded data removed]",
      "text/plain": [
       "<matplotlib.figure.Figure at 0x65925bacc0>"
      ]
     },
     "metadata": {},
     "output_type": "display_data"
    }
   ],
   "source": [
    "cm = confusion_matrix(y_test, y_pred)\n",
    "sns.heatmap(cm.T,square=True, annot=True, fmt='d', cbar=False,xticklabels=['No','Yes'],yticklabels=['No','Yes'] )\n",
    "plt.xlabel('true label')\n",
    "plt.ylabel('predicted label')"
   ]
  },
  {
   "cell_type": "code",
   "execution_count": null,
   "metadata": {},
   "outputs": [],
   "source": []
  }
 ],
 "metadata": {
  "kernelspec": {
   "display_name": "Python 3",
   "language": "python",
   "name": "python3"
  },
  "language_info": {
   "codemirror_mode": {
    "name": "ipython",
    "version": 3
   },
   "file_extension": ".py",
   "mimetype": "text/x-python",
   "name": "python",
   "nbconvert_exporter": "python",
   "pygments_lexer": "ipython3",
   "version": "3.6.5"
  }
 },
 "nbformat": 4,
 "nbformat_minor": 2
}
